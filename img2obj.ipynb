{
 "cells": [
  {
   "cell_type": "code",
   "execution_count": null,
   "metadata": {},
   "outputs": [],
   "source": [
    "import numpy as np\n",
    "import scipy.misc\n",
    "import mcubes\n",
    "import argparse\n",
    "from sklearn.neighbors import NearestNeighbors\n",
    "\n",
    "\n",
    "parser = argparse.ArgumentParser(description='Visualise the 3D volume')\n",
    "parser.add_argument('--image', dest='image',\n",
    "                    help=\"The background image to display\")\n",
    "parser.add_argument('--volume', dest='volume',\n",
    "                    help=\"The volume to render\")\n",
    "parser.add_argument('--obj', dest='obj',\n",
    "                    help=\"The file path of the object\")\n",
    "\n",
    "args = parser.parse_args()\n",
    "\n",
    "im = scipy.misc.imread(args.image, False, 'RGB')\n",
    "\n",
    "vol = np.fromfile(args.volume, dtype=np.int8)\n",
    "vol = vol.reshape((200,192,192))\n",
    "vol = vol.astype(float)\n",
    "\n",
    "vertices, triangles = mcubes.marching_cubes(vol, 10)\n",
    "vertices = vertices[:,(2,1,0)]\n",
    "vertices[:,2] *= 0.5 # scale the Z component correctly\n",
    "\n",
    "r = im[:,:,0].flatten()\n",
    "g = im[:,:,1].flatten()\n",
    "b = im[:,:,2].flatten()\n",
    "\n",
    "vcx,vcy = np.meshgrid(np.arange(0,192),np.arange(0,192))\n",
    "vcx = vcx.flatten()\n",
    "vcy = vcy.flatten()\n",
    "vc = np.vstack((vcx, vcy, r, g, b)).transpose()\n",
    "neigh = NearestNeighbors(n_neighbors=1)\n",
    "neigh.fit(vc[:,:2])\n",
    "n = neigh.kneighbors(vertices[:,(0,1)], return_distance=False)\n",
    "colour = vc[n,2:].reshape((vertices.shape[0],3)).astype(float) / 255\n",
    "\n",
    "vc = np.hstack((vertices, colour))\n",
    "\n",
    "with open(args.obj, 'w') as f:\n",
    "    for v in range(0,vc.shape[0]):\n",
    "        f.write('v %0.2f %0.2f %0.2f %0.2f %0.2f %0.2f\\n' % (vc[v,0],vc[v,1],vc[v,2],vc[v,3],vc[v,4],vc[v,5]))\n",
    "\n",
    "    for t in range(0,triangles.shape[0]):\n",
    "        f.write('f {} {} {}\\n'.format(*triangles[t,:]+1))\n",
    "\n",
    "print('Calculated the isosurface.')"
   ]
  },
  {
   "cell_type": "code",
   "execution_count": 7,
   "metadata": {},
   "outputs": [
    {
     "data": {
      "text/plain": [
       "True"
      ]
     },
     "execution_count": 7,
     "metadata": {},
     "output_type": "execute_result"
    }
   ],
   "source": [
    "import cv2\n",
    "image = cv2.imread(\"side.jpg\")\n",
    "\n",
    "cv2.imwrite(\"side.tiff\", image)"
   ]
  },
  {
   "cell_type": "code",
   "execution_count": null,
   "metadata": {},
   "outputs": [],
   "source": []
  }
 ],
 "metadata": {
  "kernelspec": {
   "display_name": "Python 3",
   "language": "python",
   "name": "python3"
  },
  "language_info": {
   "codemirror_mode": {
    "name": "ipython",
    "version": 3
   },
   "file_extension": ".py",
   "mimetype": "text/x-python",
   "name": "python",
   "nbconvert_exporter": "python",
   "pygments_lexer": "ipython3",
   "version": "3.6.8"
  }
 },
 "nbformat": 4,
 "nbformat_minor": 4
}
